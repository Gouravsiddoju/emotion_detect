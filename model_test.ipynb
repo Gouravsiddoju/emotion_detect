{
 "cells": [
  {
   "cell_type": "code",
   "execution_count": 11,
   "metadata": {},
   "outputs": [
    {
     "name": "stdout",
     "output_type": "stream",
     "text": [
      "WARNING:tensorflow:5 out of the last 13 calls to <function TensorFlowTrainer.make_predict_function.<locals>.one_step_on_data_distributed at 0x000002500017BEC0> triggered tf.function retracing. Tracing is expensive and the excessive number of tracings could be due to (1) creating @tf.function repeatedly in a loop, (2) passing tensors with different shapes, (3) passing Python objects instead of tensors. For (1), please define your @tf.function outside of the loop. For (2), @tf.function has reduce_retracing=True option that can avoid unnecessary retracing. For (3), please refer to https://www.tensorflow.org/guide/function#controlling_retracing and https://www.tensorflow.org/api_docs/python/tf/function for  more details.\n"
     ]
    },
    {
     "name": "stderr",
     "output_type": "stream",
     "text": [
      "WARNING:tensorflow:5 out of the last 13 calls to <function TensorFlowTrainer.make_predict_function.<locals>.one_step_on_data_distributed at 0x000002500017BEC0> triggered tf.function retracing. Tracing is expensive and the excessive number of tracings could be due to (1) creating @tf.function repeatedly in a loop, (2) passing tensors with different shapes, (3) passing Python objects instead of tensors. For (1), please define your @tf.function outside of the loop. For (2), @tf.function has reduce_retracing=True option that can avoid unnecessary retracing. For (3), please refer to https://www.tensorflow.org/guide/function#controlling_retracing and https://www.tensorflow.org/api_docs/python/tf/function for  more details.\n"
     ]
    },
    {
     "name": "stdout",
     "output_type": "stream",
     "text": [
      "\u001b[1m6/6\u001b[0m \u001b[32m━━━━━━━━━━━━━━━━━━━━\u001b[0m\u001b[37m\u001b[0m \u001b[1m3s\u001b[0m 402ms/step\n",
      "Sample 1 - Predicted: scrambled\n",
      "Sample 2 - Predicted: scrambled\n",
      "Sample 3 - Predicted: scrambled\n",
      "Sample 4 - Predicted: scrambled\n",
      "Sample 5 - Predicted: scrambled\n"
     ]
    }
   ],
   "source": [
    "import os\n",
    "import numpy as np\n",
    "import nibabel as nib\n",
    "from skimage.transform import resize\n",
    "import gzip\n",
    "import pickle\n",
    "from sklearn.preprocessing import LabelEncoder\n",
    "from tensorflow.keras.models import load_model\n",
    "\n",
    "# Constants\n",
    "target_shape = (32, 32, 32)\n",
    "sequence_length = 20\n",
    "future_steps = 5\n",
    "\n",
    "# Paths\n",
    "fmri_file_path = \"D:/PROJECTS/fMRI_emotion/sub-14/func/sub-14_task-fe_bold.nii\"\n",
    "model_path = \"D:/PROJECTS/emotion_detect/fmri_emotion_model_rnn_future.h5\"  # Update with your actual model file path\n",
    "label_encoder_path = \"label_encoder.pkl\"\n",
    "\n",
    "# Load and preprocess a single fMRI file\n",
    "def process_single_fmri_file(fmri_file_path, sequence_length, future_steps, target_shape):\n",
    "    if fmri_file_path.endswith(\".nii.gz\"):\n",
    "        with gzip.open(fmri_file_path, 'rb') as f_in:\n",
    "            fmri_img = nib.FileHolder(fileobj=f_in)\n",
    "            fmri_data = nib.Nifti1Image.from_file_map({'image': fmri_img}).get_fdata(dtype=np.float32)\n",
    "    else:\n",
    "        fmri_data = nib.load(fmri_file_path).get_fdata(dtype=np.float32)\n",
    "\n",
    "    fmri_data = (fmri_data - fmri_data.min()) / (fmri_data.max() - fmri_data.min() + 1e-10)\n",
    "    total_frames = fmri_data.shape[-1]\n",
    "\n",
    "    if total_frames < sequence_length + future_steps:\n",
    "        raise ValueError(f\"fMRI file has {total_frames} frames, but {sequence_length + future_steps} are required!\")\n",
    "\n",
    "    num_sequences = total_frames - sequence_length - future_steps + 1\n",
    "    sequences = np.zeros((num_sequences, sequence_length, *target_shape), dtype=np.float32)\n",
    "\n",
    "    for i in range(num_sequences):\n",
    "        seq = fmri_data[..., i:i + sequence_length]\n",
    "        seq_resized = resize(seq, (*target_shape, sequence_length), anti_aliasing=True, preserve_range=True)\n",
    "        sequences[i] = np.transpose(seq_resized, (3, 0, 1, 2))\n",
    "\n",
    "    return sequences\n",
    "\n",
    "# Load label encoder\n",
    "with open(label_encoder_path, \"rb\") as f:\n",
    "    label_encoder = pickle.load(f)\n",
    "\n",
    "# Load model\n",
    "model = load_model(model_path, compile= False)\n",
    "\n",
    "# Preprocess input fMRI data\n",
    "X_test = process_single_fmri_file(fmri_file_path, sequence_length, future_steps, target_shape)\n",
    "\n",
    "# Predict class probabilities and decode to labels\n",
    "pred_probs = model.predict(X_test)\n",
    "pred_classes = np.argmax(pred_probs[:, -1], axis=1)\n",
    "predicted_labels = label_encoder.inverse_transform(pred_classes)\n",
    "\n",
    "\n",
    "# Display predicted labels\n",
    "for i, label in enumerate(predicted_labels[:5]):\n",
    "    print(f\"Sample {i + 1} - Predicted: {label}\")\n",
    "\n",
    "\n",
    "\n",
    "\n",
    "\n"
   ]
  },
  {
   "cell_type": "code",
   "execution_count": 10,
   "metadata": {},
   "outputs": [
    {
     "ename": "ValueError",
     "evalue": "can only convert an array of size 1 to a Python scalar",
     "output_type": "error",
     "traceback": [
      "\u001b[1;31m---------------------------------------------------------------------------\u001b[0m",
      "\u001b[1;31mValueError\u001b[0m                                Traceback (most recent call last)",
      "Cell \u001b[1;32mIn[10], line 4\u001b[0m\n\u001b[0;32m      1\u001b[0m \u001b[38;5;28;01mfor\u001b[39;00m i \u001b[38;5;129;01min\u001b[39;00m \u001b[38;5;28mrange\u001b[39m(\u001b[38;5;241m5\u001b[39m):\n\u001b[0;32m      2\u001b[0m     probs \u001b[38;5;241m=\u001b[39m pred_probs[i]\n\u001b[0;32m      3\u001b[0m     label_probs \u001b[38;5;241m=\u001b[39m {\n\u001b[1;32m----> 4\u001b[0m         label: \u001b[38;5;28mfloat\u001b[39m(\u001b[43mprob\u001b[49m\u001b[38;5;241;43m.\u001b[39;49m\u001b[43mitem\u001b[49m\u001b[43m(\u001b[49m\u001b[43m)\u001b[49m) \u001b[38;5;28;01mif\u001b[39;00m \u001b[38;5;28mhasattr\u001b[39m(prob, \u001b[38;5;124m\"\u001b[39m\u001b[38;5;124mitem\u001b[39m\u001b[38;5;124m\"\u001b[39m) \u001b[38;5;28;01melse\u001b[39;00m \u001b[38;5;28mfloat\u001b[39m(prob)\n\u001b[0;32m      5\u001b[0m         \u001b[38;5;28;01mfor\u001b[39;00m label, prob \u001b[38;5;129;01min\u001b[39;00m \u001b[38;5;28mzip\u001b[39m(label_encoder\u001b[38;5;241m.\u001b[39mclasses_, probs)\n\u001b[0;32m      6\u001b[0m     }\n\u001b[0;32m      7\u001b[0m     sorted_probs \u001b[38;5;241m=\u001b[39m \u001b[38;5;28mdict\u001b[39m(\u001b[38;5;28msorted\u001b[39m(label_probs\u001b[38;5;241m.\u001b[39mitems(), key\u001b[38;5;241m=\u001b[39m\u001b[38;5;28;01mlambda\u001b[39;00m x: x[\u001b[38;5;241m1\u001b[39m], reverse\u001b[38;5;241m=\u001b[39m\u001b[38;5;28;01mTrue\u001b[39;00m))\n\u001b[0;32m      8\u001b[0m     \u001b[38;5;28mprint\u001b[39m(\u001b[38;5;124mf\u001b[39m\u001b[38;5;124m\"\u001b[39m\u001b[38;5;130;01m\\n\u001b[39;00m\u001b[38;5;124mSample \u001b[39m\u001b[38;5;132;01m{\u001b[39;00mi\u001b[38;5;241m+\u001b[39m\u001b[38;5;241m1\u001b[39m\u001b[38;5;132;01m}\u001b[39;00m\u001b[38;5;124m - Top Predictions:\u001b[39m\u001b[38;5;124m\"\u001b[39m)\n",
      "\u001b[1;31mValueError\u001b[0m: can only convert an array of size 1 to a Python scalar"
     ]
    }
   ],
   "source": [
    "for i in range(5):\n",
    "    probs = pred_probs[i]\n",
    "    label_probs = {\n",
    "        label: float(prob.item()) if hasattr(prob, \"item\") else float(prob)\n",
    "        for label, prob in zip(label_encoder.classes_, probs)\n",
    "    }\n",
    "    sorted_probs = dict(sorted(label_probs.items(), key=lambda x: x[1], reverse=True))\n",
    "    print(f\"\\nSample {i+1} - Top Predictions:\")\n",
    "    for label, prob in sorted_probs.items():\n",
    "        print(f\"  {label}: {prob:.4f}\")\n"
   ]
  }
 ],
 "metadata": {
  "kernelspec": {
   "display_name": "Python 3",
   "language": "python",
   "name": "python3"
  },
  "language_info": {
   "codemirror_mode": {
    "name": "ipython",
    "version": 3
   },
   "file_extension": ".py",
   "mimetype": "text/x-python",
   "name": "python",
   "nbconvert_exporter": "python",
   "pygments_lexer": "ipython3",
   "version": "3.12.8"
  }
 },
 "nbformat": 4,
 "nbformat_minor": 2
}
